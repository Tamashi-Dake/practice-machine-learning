{
 "cells": [
  {
   "cell_type": "code",
   "execution_count": null,
   "id": "d36ebad3-1e73-4f61-8e49-8dc48eb47504",
   "metadata": {
    "editable": true,
    "slideshow": {
     "slide_type": ""
    },
    "tags": []
   },
   "outputs": [],
   "source": [
    "import pandas as pd\n",
    "import numpy as np\n",
    "from sklearn.preprocessing import MinMaxScaler\n",
    "from sklearn.metrics.pairwise import cosine_similarity\n"
   ]
  },
  {
   "cell_type": "code",
   "execution_count": 2,
   "id": "94c30ec3-c9d6-463d-8e04-44afb0ecb473",
   "metadata": {},
   "outputs": [],
   "source": [
    "\n",
    "# Tạo DataFrame từ bảng dữ liệu\n",
    "data = {\n",
    "    'ID': [1, 2, 3, 4, 5, 6, 7, 8, 9, 10, 11, 12],\n",
    "    'Age': [28, 25, 57, 60, 55, 56, 45, 34, 47, 68, 38, 42],\n",
    "    'Income': [12000, 11000, 17000, 7000, 4200, 3700, 4600, 6800, 8600, 9000, 8000, 6700],\n",
    "    'Student': ['No', 'No', 'No', 'No', 'Yes', 'Yes', 'Yes', 'No', 'Yes', 'Yes', 'Yes', 'No'],\n",
    "    'Credit_Rating': [0.4, 0.7, 0.3, 0.4, 0.45, 0.9, 0.88, 0.46, 0.45, 0.69, 0.9, 0.89],\n",
    "    'Buy_Computer': ['No', 'No', 'Yes', 'Yes', 'Yes', 'No', 'Yes', 'No', 'Yes', 'Yes', 'Yes', 'Yes']\n",
    "}\n",
    "\n",
    "df = pd.DataFrame(data)\n"
   ]
  },
  {
   "cell_type": "code",
   "execution_count": 3,
   "id": "dc238d01-ee36-4ce7-b0b5-db34ea20adc2",
   "metadata": {},
   "outputs": [
    {
     "name": "stdout",
     "output_type": "stream",
     "text": [
      "    ID       Age    Income Student  Credit_Rating Buy_Computer\n",
      "0    1  0.069767  0.624060      No       0.166667           No\n",
      "1    2  0.000000  0.548872      No       0.666667           No\n",
      "2    3  0.744186  1.000000      No       0.000000          Yes\n",
      "3    4  0.813953  0.248120      No       0.166667          Yes\n",
      "4    5  0.697674  0.037594     Yes       0.250000          Yes\n",
      "5    6  0.720930  0.000000     Yes       1.000000           No\n",
      "6    7  0.465116  0.067669     Yes       0.966667          Yes\n",
      "7    8  0.209302  0.233083      No       0.266667           No\n",
      "8    9  0.511628  0.368421     Yes       0.250000          Yes\n",
      "9   10  1.000000  0.398496     Yes       0.650000          Yes\n",
      "10  11  0.302326  0.323308     Yes       1.000000          Yes\n",
      "11  12  0.395349  0.225564      No       0.983333          Yes\n"
     ]
    }
   ],
   "source": [
    "# Chuẩn hoá dữ liệu theo phương pháp Min-Max normalization.\n",
    "\n",
    "# Tạo một đối tượng MinMaxScaler và chuẩn hoá các cột 'Age', 'Income', 'Credit_Rating'\n",
    "scaler = MinMaxScaler()\n",
    "df[['Age', 'Income', 'Credit_Rating']] = scaler.fit_transform(df[['Age', 'Income', 'Credit_Rating']])\n",
    "\n",
    "# Hiển thị DataFrame đã chuẩn hoá\n",
    "print(df)\n"
   ]
  },
  {
   "cell_type": "code",
   "execution_count": 4,
   "id": "174028bb-fd42-499b-a562-a049d122478e",
   "metadata": {},
   "outputs": [
    {
     "name": "stdout",
     "output_type": "stream",
     "text": [
      "Dự đoán cho ID = 13 là: Yes\n"
     ]
    }
   ],
   "source": [
    "# Dự đoán giá trị trường Buy_Computer của dữ liệu \n",
    "# ID = 13, Age = 20, Income = 8.000, Student = Yes, Credit_Rating = 0.85 sử dụng thuật toán KNN với k = 3.\n",
    "# Sử dụng phép đo khoảng cách Cosine.\n",
    "\n",
    "# Chuẩn bị dữ liệu mới\n",
    "new_data = {\n",
    "    'Age': [20],\n",
    "    'Income': [8000],\n",
    "    'Student': ['Yes'],\n",
    "    'Credit_Rating': [0.85]\n",
    "}\n",
    "\n",
    "new_df = pd.DataFrame(new_data)\n",
    "new_df[['Age', 'Income', 'Credit_Rating']] = scaler.transform(new_df[['Age', 'Income', 'Credit_Rating']])\n",
    "\n",
    "# Thêm cột Student (chuyển đổi thành 0 và 1)\n",
    "df['Student'] = df['Student'].map({'No': 0, 'Yes': 1})\n",
    "new_df['Student'] = new_df['Student'].map({'No': 0, 'Yes': 1})\n",
    "\n",
    "# Tính khoảng cách Cosine\n",
    "def cosine_distance(a, b):\n",
    "    return 1 - cosine_similarity([a], [b])[0][0]\n",
    "\n",
    "distances = []\n",
    "for i in range(len(df)):\n",
    "    distance = cosine_distance(\n",
    "        [df.loc[i, 'Age'], df.loc[i, 'Income'], df.loc[i, 'Student'], df.loc[i, 'Credit_Rating']],\n",
    "        [new_df.loc[0, 'Age'], new_df.loc[0, 'Income'], new_df.loc[0, 'Student'], new_df.loc[0, 'Credit_Rating']]\n",
    "    )\n",
    "    distances.append((distance, df.loc[i, 'Buy_Computer']))\n",
    "\n",
    "# Sắp xếp các khoảng cách và chọn k=3 hàng xóm gần nhất\n",
    "distances.sort(key=lambda x: x[0])\n",
    "k = 3\n",
    "nearest_neighbors = distances[:k]\n",
    "\n",
    "# Dự đoán nhãn dựa trên đa số nhãn của k hàng xóm gần nhất\n",
    "labels = [neighbor[1] for neighbor in nearest_neighbors]\n",
    "prediction = max(set(labels), key=labels.count)\n",
    "\n",
    "print(f\"Dự đoán cho ID = 13 là: {prediction}\")"
   ]
  },
  {
   "cell_type": "code",
   "execution_count": 5,
   "id": "1bdf06cf-928a-4891-9d5c-51a8824923a1",
   "metadata": {},
   "outputs": [
    {
     "name": "stdout",
     "output_type": "stream",
     "text": [
      "Dự đoán cho ID = 14 là: No\n"
     ]
    },
    {
     "name": "stderr",
     "output_type": "stream",
     "text": [
      "C:\\Users\\ADMIN\\AppData\\Local\\Temp\\ipykernel_17272\\4171709852.py:73: RuntimeWarning: invalid value encountered in scalar divide\n",
      "  p_buy_yes = yes_probs / (yes_probs + no_probs)\n",
      "C:\\Users\\ADMIN\\AppData\\Local\\Temp\\ipykernel_17272\\4171709852.py:74: RuntimeWarning: invalid value encountered in scalar divide\n",
      "  p_buy_no = no_probs / (yes_probs + no_probs)\n"
     ]
    }
   ],
   "source": [
    "# Cho biết:\n",
    "# o Age < 30: Age = Young.\n",
    "# o Age >= 30 và Age <50: Age = Medium\n",
    "# o Age >=50: Age = Old\n",
    "# o Income < 7.000: Income = Low\n",
    "# o Imcome >= 7.000 và Income < 12.000: Imcome = Medium.\n",
    "# o Imcome >= 12.000: Imcome = High.\n",
    "# o Credit_Rating >= 0.7: Credit_rating = Excellent\n",
    "# o Credict_Rating < 0.7: Credit_rating = Fair.\n",
    "\n",
    "# Sử dụng thuật toán phân lớp Naïve Bayes, hãy cho biết một người có \n",
    "# ID = 14, Age = 35, Imcome = 12.000, Student = Yes, Credit_Rating = 0.5 \n",
    "# hãy dự đoán xem giá trị Buy_Computer là gì? \n",
    "# Yêu cầu chỉ rõ các bước thực hiện, các xác suất thành phần cần tính.\n",
    "    \n",
    "# Chuyển đổi các giá trị theo các quy tắc đã cho\n",
    "def convert_age(age):\n",
    "    if age < 30:\n",
    "        return 'Young'\n",
    "    elif age < 50:\n",
    "        return 'Medium'\n",
    "    else:\n",
    "        return 'Old'\n",
    "\n",
    "def convert_income(income):\n",
    "    if income < 7000:\n",
    "        return 'Low'\n",
    "    elif income < 12000:\n",
    "        return 'Medium'\n",
    "    else:\n",
    "        return 'High'\n",
    "\n",
    "def convert_credit_rating(rating):\n",
    "    if rating >= 0.7:\n",
    "        return 'Excellent'\n",
    "    else:\n",
    "        return 'Fair'\n",
    "\n",
    "df['Age'] = df['Age'].apply(convert_age)\n",
    "df['Income'] = df['Income'].apply(convert_income)\n",
    "df['Credit_Rating'] = df['Credit_Rating'].apply(convert_credit_rating)\n",
    "\n",
    "# Chuẩn bị dữ liệu mới\n",
    "new_data = {\n",
    "    'ID': [14],\n",
    "    'Age': ['Medium'],\n",
    "    'Income': ['High'],\n",
    "    'Student': ['Yes'],\n",
    "    'Credit_Rating': ['Fair']\n",
    "}\n",
    "\n",
    "new_df = pd.DataFrame(new_data)\n",
    "\n",
    "# Tính xác suất tiên nghiệm\n",
    "p_yes = df['Buy_Computer'].value_counts()['Yes'] / len(df)\n",
    "p_no = df['Buy_Computer'].value_counts()['No'] / len(df)\n",
    "\n",
    "# Tính xác suất có điều kiện\n",
    "def calc_cond_prob(df, feature, value, label):\n",
    "    subset = df[df['Buy_Computer'] == label]\n",
    "    return subset[feature].value_counts().get(value, 0) / len(subset)\n",
    "\n",
    "# Tính xác suất có điều kiện cho từng thuộc tính\n",
    "features = ['Age', 'Income', 'Student', 'Credit_Rating']\n",
    "yes_probs = p_yes\n",
    "no_probs = p_no\n",
    "\n",
    "for feature in features:\n",
    "    yes_probs *= calc_cond_prob(df, feature, new_df[feature][0], 'Yes')\n",
    "    no_probs *= calc_cond_prob(df, feature, new_df[feature][0], 'No')\n",
    "\n",
    "# Tính xác suất hậu nghiệm\n",
    "p_buy_yes = yes_probs / (yes_probs + no_probs)\n",
    "p_buy_no = no_probs / (yes_probs + no_probs)\n",
    "\n",
    "# Dự đoán\n",
    "prediction = 'Yes' if p_buy_yes > p_buy_no else 'No'\n",
    "print(f\"Dự đoán cho ID = 14 là: {prediction}\")"
   ]
  },
  {
   "cell_type": "code",
   "execution_count": 1,
   "id": "c07857a0-4fb5-4a8b-9101-93911111508e",
   "metadata": {},
   "outputs": [
    {
     "name": "stdout",
     "output_type": "stream",
     "text": [
      "    CustomerID  Gender  Age  Annual Income (k$)  Spending Score (1-100)\n",
      "0            1    Male   19                  15                      39\n",
      "1            2    Male   21                  15                      81\n",
      "2            3  Female   20                  16                       6\n",
      "3            4  Female   23                  16                      77\n",
      "4            5  Female   31                  17                      40\n",
      "5            6  Female   22                  17                      76\n",
      "6            7  Female   35                  18                       6\n",
      "7            8  Female   23                  18                      94\n",
      "8            9    Male   64                  19                       3\n",
      "9           10  Female   30                  19                      72\n",
      "10          11    Male   67                  19                      14\n",
      "11          12  Female   35                  19                      99\n",
      "12          13  Female   58                  20                      15\n",
      "13          14  Female   24                  20                      77\n",
      "14          15    Male   37                  20                      13\n",
      "15          16    Male   22                  20                      79\n",
      "16          17  Female   35                  21                      35\n",
      "17          18    Male   20                  21                      66\n",
      "18          19    Male   52                  23                      29\n",
      "19          20  Female   35                  23                      98\n",
      "20          21    Male   35                  24                      35\n",
      "21          22    Male   25                  24                      73\n",
      "22          23  Female   46                  25                       5\n",
      "23          24    Male   31                  25                      73\n",
      "24          25  Female   54                  28                      14\n",
      "25          26    Male   29                  28                      82\n",
      "26          27  Female   45                  28                      32\n",
      "27          28    Male   35                  28                      61\n",
      "28          29  Female   40                  29                      31\n",
      "29          30  Female   23                  29                      87\n",
      "30 dòng đầu tiên đã được lưu vào test30.csv\n"
     ]
    }
   ],
   "source": [
    "import pandas as pd\n",
    "\n",
    "# Đọc dữ liệu từ file CSV\n",
    "file_path = 'Buoi 3/Mall_Customers.csv'  # Thay 'your_file.csv' bằng đường dẫn tới file của bạn\n",
    "data = pd.read_csv(file_path)\n",
    "\n",
    "# Lấy 30 dòng đầu tiên\n",
    "data_head = data.head(30)\n",
    "\n",
    "# Hiển thị kết quả\n",
    "print(data_head)\n",
    "\n",
    "# Lưu 30 dòng đầu tiên ra file CSV mới\n",
    "output_file_path = 'test30.csv'  # Đường dẫn tới file mới\n",
    "data_head.to_csv(output_file_path, index=False)\n",
    "\n",
    "print(f'30 dòng đầu tiên đã được lưu vào {output_file_path}')\n"
   ]
  },
  {
   "cell_type": "code",
   "execution_count": null,
   "id": "388a2b1d-0cfd-4566-9e9c-0103e6dd36bf",
   "metadata": {},
   "outputs": [],
   "source": []
  }
 ],
 "metadata": {
  "kernelspec": {
   "display_name": "Python 3 (ipykernel)",
   "language": "python",
   "name": "python3"
  },
  "language_info": {
   "codemirror_mode": {
    "name": "ipython",
    "version": 3
   },
   "file_extension": ".py",
   "mimetype": "text/x-python",
   "name": "python",
   "nbconvert_exporter": "python",
   "pygments_lexer": "ipython3",
   "version": "3.11.7"
  }
 },
 "nbformat": 4,
 "nbformat_minor": 5
}
