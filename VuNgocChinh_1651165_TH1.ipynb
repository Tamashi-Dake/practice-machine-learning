{
 "cells": [
  {
   "cell_type": "markdown",
   "id": "a81fc0d6-a7a3-49b5-9f0f-a4aeaca2a8d4",
   "metadata": {},
   "source": [
    "# HỌC MÁY - BÀI THỰC HÀNH 1"
   ]
  },
  {
   "cell_type": "code",
   "execution_count": 1,
   "id": "2bc86508-08b9-43d0-9ec0-55de0a61ec0c",
   "metadata": {},
   "outputs": [
    {
     "data": {
      "text/html": [
       "<div>\n",
       "<style scoped>\n",
       "    .dataframe tbody tr th:only-of-type {\n",
       "        vertical-align: middle;\n",
       "    }\n",
       "\n",
       "    .dataframe tbody tr th {\n",
       "        vertical-align: top;\n",
       "    }\n",
       "\n",
       "    .dataframe thead th {\n",
       "        text-align: right;\n",
       "    }\n",
       "</style>\n",
       "<table border=\"1\" class=\"dataframe\">\n",
       "  <thead>\n",
       "    <tr style=\"text-align: right;\">\n",
       "      <th></th>\n",
       "      <th>Car_ID</th>\n",
       "      <th>Brand</th>\n",
       "      <th>Model</th>\n",
       "      <th>Year</th>\n",
       "      <th>Kilometers_Driven</th>\n",
       "      <th>Fuel_Type</th>\n",
       "      <th>Transmission</th>\n",
       "      <th>Owner_Type</th>\n",
       "      <th>Mileage</th>\n",
       "      <th>Engine</th>\n",
       "      <th>Power</th>\n",
       "      <th>Seats</th>\n",
       "      <th>Price</th>\n",
       "    </tr>\n",
       "  </thead>\n",
       "  <tbody>\n",
       "    <tr>\n",
       "      <th>0</th>\n",
       "      <td>1</td>\n",
       "      <td>Toyota</td>\n",
       "      <td>Corolla</td>\n",
       "      <td>2018</td>\n",
       "      <td>50000</td>\n",
       "      <td>Petrol</td>\n",
       "      <td>Manual</td>\n",
       "      <td>First</td>\n",
       "      <td>15</td>\n",
       "      <td>1498</td>\n",
       "      <td>108</td>\n",
       "      <td>5</td>\n",
       "      <td>800000</td>\n",
       "    </tr>\n",
       "    <tr>\n",
       "      <th>1</th>\n",
       "      <td>2</td>\n",
       "      <td>Honda</td>\n",
       "      <td>Civic</td>\n",
       "      <td>2019</td>\n",
       "      <td>40000</td>\n",
       "      <td>Petrol</td>\n",
       "      <td>Automatic</td>\n",
       "      <td>Second</td>\n",
       "      <td>17</td>\n",
       "      <td>1597</td>\n",
       "      <td>140</td>\n",
       "      <td>5</td>\n",
       "      <td>1000000</td>\n",
       "    </tr>\n",
       "    <tr>\n",
       "      <th>2</th>\n",
       "      <td>3</td>\n",
       "      <td>Ford</td>\n",
       "      <td>Mustang</td>\n",
       "      <td>2017</td>\n",
       "      <td>20000</td>\n",
       "      <td>Petrol</td>\n",
       "      <td>Automatic</td>\n",
       "      <td>First</td>\n",
       "      <td>10</td>\n",
       "      <td>4951</td>\n",
       "      <td>395</td>\n",
       "      <td>4</td>\n",
       "      <td>2500000</td>\n",
       "    </tr>\n",
       "    <tr>\n",
       "      <th>3</th>\n",
       "      <td>4</td>\n",
       "      <td>Maruti</td>\n",
       "      <td>Swift</td>\n",
       "      <td>2020</td>\n",
       "      <td>30000</td>\n",
       "      <td>Diesel</td>\n",
       "      <td>Manual</td>\n",
       "      <td>Third</td>\n",
       "      <td>23</td>\n",
       "      <td>1248</td>\n",
       "      <td>74</td>\n",
       "      <td>5</td>\n",
       "      <td>600000</td>\n",
       "    </tr>\n",
       "    <tr>\n",
       "      <th>4</th>\n",
       "      <td>5</td>\n",
       "      <td>Hyundai</td>\n",
       "      <td>Sonata</td>\n",
       "      <td>2016</td>\n",
       "      <td>60000</td>\n",
       "      <td>Diesel</td>\n",
       "      <td>Automatic</td>\n",
       "      <td>Second</td>\n",
       "      <td>18</td>\n",
       "      <td>1999</td>\n",
       "      <td>194</td>\n",
       "      <td>5</td>\n",
       "      <td>850000</td>\n",
       "    </tr>\n",
       "  </tbody>\n",
       "</table>\n",
       "</div>"
      ],
      "text/plain": [
       "   Car_ID    Brand    Model  Year  Kilometers_Driven Fuel_Type Transmission  \\\n",
       "0       1   Toyota  Corolla  2018              50000    Petrol       Manual   \n",
       "1       2    Honda    Civic  2019              40000    Petrol    Automatic   \n",
       "2       3     Ford  Mustang  2017              20000    Petrol    Automatic   \n",
       "3       4   Maruti    Swift  2020              30000    Diesel       Manual   \n",
       "4       5  Hyundai   Sonata  2016              60000    Diesel    Automatic   \n",
       "\n",
       "  Owner_Type  Mileage  Engine  Power  Seats    Price  \n",
       "0      First       15    1498    108      5   800000  \n",
       "1     Second       17    1597    140      5  1000000  \n",
       "2      First       10    4951    395      4  2500000  \n",
       "3      Third       23    1248     74      5   600000  \n",
       "4     Second       18    1999    194      5   850000  "
      ]
     },
     "execution_count": 1,
     "metadata": {},
     "output_type": "execute_result"
    }
   ],
   "source": [
    "import pandas as pd\n",
    "\n",
    "# Đọc dữ liệu từ file CSV\n",
    "df = pd.read_csv('cars.csv')\n",
    "df.head()"
   ]
  },
  {
   "cell_type": "markdown",
   "id": "227d439a-b3e3-4c75-8152-923232b2ca29",
   "metadata": {},
   "source": [
    "## Các phương pháp tiền xử lí\n"
   ]
  },
  {
   "cell_type": "markdown",
   "id": "cd382854-42ee-4be8-93e8-30c29ac4db4e",
   "metadata": {},
   "source": [
    "### 1. Phương pháp One-hot Encoding (+ min max scaling)"
   ]
  },
  {
   "cell_type": "code",
   "execution_count": 2,
   "id": "7d780070-0186-4e2e-a586-ba8ea04bcaff",
   "metadata": {},
   "outputs": [
    {
     "name": "stdout",
     "output_type": "stream",
     "text": [
      "     Car_ID  Year  Kilometers_Driven   Mileage    Engine     Power     Seats  \\\n",
      "0  0.000000   0.4                0.8  0.333333  0.126265  0.121951  0.333333   \n",
      "1  0.010101   0.6                0.6  0.466667  0.151316  0.219512  0.333333   \n",
      "2  0.020202   0.2                0.2  0.000000  1.000000  0.996951  0.000000   \n",
      "3  0.030303   0.8                0.4  0.866667  0.063006  0.018293  0.333333   \n",
      "4  0.040404   0.0                1.0  0.533333  0.253036  0.384146  0.333333   \n",
      "\n",
      "      Price  Brand_Audi  Brand_BMW  ...  Model_X5  Model_XUV300  Model_Yaris  \\\n",
      "0  0.098592         0.0        0.0  ...       0.0           0.0          0.0   \n",
      "1  0.154930         0.0        0.0  ...       0.0           0.0          0.0   \n",
      "2  0.577465         0.0        0.0  ...       0.0           0.0          0.0   \n",
      "3  0.042254         0.0        0.0  ...       0.0           0.0          0.0   \n",
      "4  0.112676         0.0        0.0  ...       0.0           0.0          0.0   \n",
      "\n",
      "   Fuel_Type_Diesel  Fuel_Type_Petrol  Transmission_Automatic  \\\n",
      "0               0.0               1.0                     0.0   \n",
      "1               0.0               1.0                     1.0   \n",
      "2               0.0               1.0                     1.0   \n",
      "3               1.0               0.0                     0.0   \n",
      "4               1.0               0.0                     1.0   \n",
      "\n",
      "   Transmission_Manual  Owner_Type_First  Owner_Type_Second  Owner_Type_Third  \n",
      "0                  1.0               1.0                0.0               0.0  \n",
      "1                  0.0               0.0                1.0               0.0  \n",
      "2                  0.0               1.0                0.0               0.0  \n",
      "3                  1.0               0.0                0.0               1.0  \n",
      "4                  0.0               0.0                1.0               0.0  \n",
      "\n",
      "[5 rows x 84 columns]\n"
     ]
    }
   ],
   "source": [
    "# Sử dụng OneHotEncoder cho các cột categorical\n",
    "from sklearn.preprocessing import OneHotEncoder, MinMaxScaler\n",
    "from sklearn.model_selection import train_test_split\n",
    "from sklearn.linear_model import LinearRegression\n",
    "from sklearn.metrics import r2_score\n",
    "import seaborn as sns\n",
    "import matplotlib.pyplot as plt\n",
    "\n",
    "categorical_columns = df.select_dtypes(include=['object']).columns.tolist()\n",
    "numerical_cols = df.select_dtypes(include=['int64']).columns.tolist()\n",
    "encoder = OneHotEncoder(sparse_output=False)\n",
    "\n",
    "# One-Hot Encoding cho các cột phân loại\n",
    "one_hot_encoded = encoder.fit_transform(df[categorical_columns])\n",
    "one_hot_df = pd.DataFrame(one_hot_encoded, columns=encoder.get_feature_names_out(categorical_columns))\n",
    "\n",
    "# Chuẩn hóa Min-Max cho các cột số\n",
    "scaler = MinMaxScaler()\n",
    "scaled_numerical_cols = scaler.fit_transform(df[numerical_cols])\n",
    "scaled_numerical_cols_df = pd.DataFrame(scaled_numerical_cols, columns=numerical_cols)\n",
    "\n",
    "# Thêm các cột đã mã hóa vào dataframe\n",
    "# df_encoded = pd.concat([df, one_hot_df], axis=1)\n",
    "# df_encoded = df_encoded.drop(categorical_columns, axis=1)\n",
    "\n",
    "# Kết hợp các cột đã mã hóa và đã chuẩn hóa\n",
    "df_encoded = pd.concat([scaled_numerical_cols_df, one_hot_df], axis=1)\n",
    "\n",
    "print(df_encoded.head())"
   ]
  },
  {
   "cell_type": "markdown",
   "id": "b2a1fafa-4f6f-48c2-9c1a-bced80d6403a",
   "metadata": {},
   "source": [
    "## Lý do sử dụng:\n",
    "### One-hot Encoding: Chuyển đổi đặc trưng phân loại thành dạng số\n",
    "### Min-Max Scaling: Đảm bảo dữ liệu đồng nhất"
   ]
  },
  {
   "cell_type": "code",
   "execution_count": 3,
   "id": "5e1ef24e-5a91-4e56-b309-d3ab46cba7e3",
   "metadata": {},
   "outputs": [
    {
     "name": "stdout",
     "output_type": "stream",
     "text": [
      "R^2: 0.8834484964053672\n"
     ]
    }
   ],
   "source": [
    "X = df_encoded.drop('Price', axis=1)\n",
    "y = df_encoded['Price']\n",
    "\n",
    "X_train, X_test, y_train, y_test = train_test_split(X, y, test_size=0.2, random_state=42)\n",
    "\n",
    "model = LinearRegression()\n",
    "model.fit(X_train, y_train)\n",
    "\n",
    "y_pred = model.predict(X_test)\n",
    "\n",
    "r2 = r2_score(y_true=y_test, y_pred=y_pred)\n",
    "print(f\"R^2: {r2}\")"
   ]
  },
  {
   "cell_type": "markdown",
   "id": "5e68464b-92ea-4d25-8e95-cb3601ffbf09",
   "metadata": {},
   "source": [
    "### 2. Phương pháp tiêu chuẩn hóa "
   ]
  },
  {
   "cell_type": "code",
   "execution_count": 4,
   "id": "ab75c0f1-6939-4ff5-bf44-b57d2548b381",
   "metadata": {},
   "outputs": [
    {
     "name": "stdout",
     "output_type": "stream",
     "text": [
      "      Car_ID      Year  Kilometers_Driven   Mileage    Engine     Power  \\\n",
      "0  -1.714816 -0.334681           2.407540 -0.671057 -0.568704 -0.654590   \n",
      "1  -1.680173  0.523475           1.305691 -0.063766 -0.411098 -0.236739   \n",
      "2  -1.645531 -1.192836          -0.898007 -2.189286  4.928417  3.093011   \n",
      "3  -1.610888  1.381631           0.203842  1.758109 -0.966700 -1.098556   \n",
      "4  -1.576245 -2.050992           3.509389  0.239880  0.228880  0.468385   \n",
      "..       ...       ...                ...       ...       ...       ...   \n",
      "95  1.576245  0.523475          -0.677637 -0.367411  0.150872  0.429211   \n",
      "96  1.610888 -1.192836           1.085321 -1.278349  1.432420  0.168054   \n",
      "97  1.645531 -0.334681          -0.236898  0.239880 -0.570296 -0.484838   \n",
      "98  1.680173  0.523475          -0.457267 -0.063766 -0.570296 -0.589300   \n",
      "99  1.714816  1.381631          -1.118377  0.847172 -1.044708 -0.954920   \n",
      "\n",
      "       Seats     Price  \n",
      "0  -0.308149 -0.777693  \n",
      "1  -0.308149 -0.576739  \n",
      "2  -1.647929  0.930419  \n",
      "3  -0.308149 -0.978648  \n",
      "4  -0.308149 -0.727455  \n",
      "..       ...       ...  \n",
      "95 -0.308149  1.332328  \n",
      "96  2.371410 -0.174830  \n",
      "97 -0.308149 -0.827932  \n",
      "98 -0.308149 -0.727455  \n",
      "99 -0.308149 -0.978648  \n",
      "\n",
      "[100 rows x 8 columns]\n"
     ]
    }
   ],
   "source": [
    "from sklearn.preprocessing import StandardScaler\n",
    "\n",
    "# lọc \n",
    "df_numeric = df.drop(df.select_dtypes(['object']), axis=1)\n",
    "\n",
    "scaler = StandardScaler()\n",
    "df_standardized = df_numeric.copy()\n",
    "\n",
    "# Áp dụng StandardScaler để chuẩn hóa các cột số, dựa trên thông tin từ df_standardized\n",
    "df_standardized[numerical_cols] = scaler.fit_transform(df_standardized[numerical_cols])\n",
    "\n",
    "print(df_standardized)"
   ]
  },
  {
   "cell_type": "markdown",
   "id": "7cc99fdc-759d-49e8-b9ef-3bfc94fff3ee",
   "metadata": {},
   "source": [
    "## Lý do sử dụng:\n",
    "### Đưa dữ liệu về cùng thang đo.\n",
    "### Cải thiện tốc độ hội tụ của thuật toán học máy.\n",
    "### Cải thiện hiệu suất"
   ]
  },
  {
   "cell_type": "code",
   "execution_count": 5,
   "id": "c9c5b0b7-768b-4327-8eed-b26a834ac8db",
   "metadata": {},
   "outputs": [
    {
     "name": "stdout",
     "output_type": "stream",
     "text": [
      "R^2: 0.7737448402382852\n"
     ]
    }
   ],
   "source": [
    "X = df_standardized.drop('Price', axis=1)\n",
    "y = df_standardized['Price']\n",
    "X_train, X_test, y_train, y_test = train_test_split(X, y, test_size=0.2, random_state=42)\n",
    "\n",
    "model = LinearRegression()\n",
    "model.fit(X_train, y_train)\n",
    "\n",
    "y_pred = model.predict(X_test)\n",
    "r2 = r2_score(y_test, y_pred)\n",
    "print(f\"R^2: {r2}\")"
   ]
  },
  {
   "cell_type": "code",
   "execution_count": 6,
   "id": "d5ac7657-fe7f-4725-a6bb-a4e83fea30de",
   "metadata": {},
   "outputs": [
    {
     "name": "stdout",
     "output_type": "stream",
     "text": [
      "Price                1.000000\n",
      "Power                0.856620\n",
      "Engine               0.714465\n",
      "Car_ID               0.037105\n",
      "Seats               -0.000027\n",
      "Kilometers_Driven   -0.051104\n",
      "Year                -0.232687\n",
      "Mileage             -0.595252\n",
      "Name: Price, dtype: float64\n"
     ]
    }
   ],
   "source": [
    "correlation_matrix = df_standardized.corr()\n",
    "\n",
    "correlation_with_price = correlation_matrix['Price'].sort_values(ascending=False)\n",
    "print(correlation_with_price)"
   ]
  },
  {
   "cell_type": "markdown",
   "id": "71531d3a-5288-4230-a5a7-41e305ebc092",
   "metadata": {},
   "source": [
    "## Những tri thức rút ra từ bộ dữ liệu\n",
    "### - Công suất động cơ (Power): Xe có công suất lớn hơn thường có giá cao hơn.\n",
    "### - Dung tích động cơ(Engine): Xe có dung tích động cơ lớn thường có giá cao hơn."
   ]
  },
  {
   "cell_type": "markdown",
   "id": "8668e63c-41bc-4cf4-8b18-5b7e977d5dd3",
   "metadata": {},
   "source": [
    "## Các đặc trưng ảnh hưởng đến giá xe nhất\n",
    "### - Power: 0.856620 / 1 \n",
    "### - Engine: 0.714465 / 1"
   ]
  },
  {
   "cell_type": "markdown",
   "id": "c920a96d-3e50-4df5-a983-46d68bb8e609",
   "metadata": {},
   "source": [
    "# Kết luận\n",
    "### Phương pháp tiền xử lí tốt nhất là One-hot Encoding + Min-max Scaling với Mô hình hồi quy tuyến tính (r^2 = 0.8834484964053672)"
   ]
  },
  {
   "cell_type": "code",
   "execution_count": null,
   "id": "204a1e42-072d-4bfc-8854-456dd11ff217",
   "metadata": {},
   "outputs": [],
   "source": []
  }
 ],
 "metadata": {
  "kernelspec": {
   "display_name": "Python 3 (ipykernel)",
   "language": "python",
   "name": "python3"
  },
  "language_info": {
   "codemirror_mode": {
    "name": "ipython",
    "version": 3
   },
   "file_extension": ".py",
   "mimetype": "text/x-python",
   "name": "python",
   "nbconvert_exporter": "python",
   "pygments_lexer": "ipython3",
   "version": "3.11.7"
  }
 },
 "nbformat": 4,
 "nbformat_minor": 5
}
