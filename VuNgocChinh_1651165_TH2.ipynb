{
 "cells": [
  {
   "cell_type": "markdown",
   "id": "a81fc0d6-a7a3-49b5-9f0f-a4aeaca2a8d4",
   "metadata": {},
   "source": [
    "# HỌC MÁY - BÀI THỰC HÀNH 2"
   ]
  },
  {
   "cell_type": "code",
   "execution_count": 10,
   "id": "2bc86508-08b9-43d0-9ec0-55de0a61ec0c",
   "metadata": {},
   "outputs": [
    {
     "name": "stdout",
     "output_type": "stream",
     "text": [
      "   PassengerId  Survived  Pclass  \\\n",
      "0            1         0       3   \n",
      "1            2         1       1   \n",
      "2            3         1       3   \n",
      "3            4         1       1   \n",
      "4            5         0       3   \n",
      "\n",
      "                                                Name     Sex   Age  SibSp  \\\n",
      "0                            Braund, Mr. Owen Harris    male  22.0      1   \n",
      "1  Cumings, Mrs. John Bradley (Florence Briggs Th...  female  38.0      1   \n",
      "2                             Heikkinen, Miss. Laina  female  26.0      0   \n",
      "3       Futrelle, Mrs. Jacques Heath (Lily May Peel)  female  35.0      1   \n",
      "4                           Allen, Mr. William Henry    male  35.0      0   \n",
      "\n",
      "   Parch            Ticket     Fare Cabin Embarked  \n",
      "0      0         A/5 21171   7.2500   NaN        S  \n",
      "1      0          PC 17599  71.2833   C85        C  \n",
      "2      0  STON/O2. 3101282   7.9250   NaN        S  \n",
      "3      0            113803  53.1000  C123        S  \n",
      "4      0            373450   8.0500   NaN        S  \n"
     ]
    },
    {
     "data": {
      "text/html": [
       "<div>\n",
       "<style scoped>\n",
       "    .dataframe tbody tr th:only-of-type {\n",
       "        vertical-align: middle;\n",
       "    }\n",
       "\n",
       "    .dataframe tbody tr th {\n",
       "        vertical-align: top;\n",
       "    }\n",
       "\n",
       "    .dataframe thead th {\n",
       "        text-align: right;\n",
       "    }\n",
       "</style>\n",
       "<table border=\"1\" class=\"dataframe\">\n",
       "  <thead>\n",
       "    <tr style=\"text-align: right;\">\n",
       "      <th></th>\n",
       "      <th>PassengerId</th>\n",
       "      <th>Pclass</th>\n",
       "      <th>Name</th>\n",
       "      <th>Sex</th>\n",
       "      <th>Age</th>\n",
       "      <th>SibSp</th>\n",
       "      <th>Parch</th>\n",
       "      <th>Ticket</th>\n",
       "      <th>Fare</th>\n",
       "      <th>Cabin</th>\n",
       "      <th>Embarked</th>\n",
       "    </tr>\n",
       "  </thead>\n",
       "  <tbody>\n",
       "    <tr>\n",
       "      <th>0</th>\n",
       "      <td>892</td>\n",
       "      <td>3</td>\n",
       "      <td>Kelly, Mr. James</td>\n",
       "      <td>male</td>\n",
       "      <td>34.5</td>\n",
       "      <td>0</td>\n",
       "      <td>0</td>\n",
       "      <td>330911</td>\n",
       "      <td>7.8292</td>\n",
       "      <td>NaN</td>\n",
       "      <td>Q</td>\n",
       "    </tr>\n",
       "    <tr>\n",
       "      <th>1</th>\n",
       "      <td>893</td>\n",
       "      <td>3</td>\n",
       "      <td>Wilkes, Mrs. James (Ellen Needs)</td>\n",
       "      <td>female</td>\n",
       "      <td>47.0</td>\n",
       "      <td>1</td>\n",
       "      <td>0</td>\n",
       "      <td>363272</td>\n",
       "      <td>7.0000</td>\n",
       "      <td>NaN</td>\n",
       "      <td>S</td>\n",
       "    </tr>\n",
       "    <tr>\n",
       "      <th>2</th>\n",
       "      <td>894</td>\n",
       "      <td>2</td>\n",
       "      <td>Myles, Mr. Thomas Francis</td>\n",
       "      <td>male</td>\n",
       "      <td>62.0</td>\n",
       "      <td>0</td>\n",
       "      <td>0</td>\n",
       "      <td>240276</td>\n",
       "      <td>9.6875</td>\n",
       "      <td>NaN</td>\n",
       "      <td>Q</td>\n",
       "    </tr>\n",
       "    <tr>\n",
       "      <th>3</th>\n",
       "      <td>895</td>\n",
       "      <td>3</td>\n",
       "      <td>Wirz, Mr. Albert</td>\n",
       "      <td>male</td>\n",
       "      <td>27.0</td>\n",
       "      <td>0</td>\n",
       "      <td>0</td>\n",
       "      <td>315154</td>\n",
       "      <td>8.6625</td>\n",
       "      <td>NaN</td>\n",
       "      <td>S</td>\n",
       "    </tr>\n",
       "    <tr>\n",
       "      <th>4</th>\n",
       "      <td>896</td>\n",
       "      <td>3</td>\n",
       "      <td>Hirvonen, Mrs. Alexander (Helga E Lindqvist)</td>\n",
       "      <td>female</td>\n",
       "      <td>22.0</td>\n",
       "      <td>1</td>\n",
       "      <td>1</td>\n",
       "      <td>3101298</td>\n",
       "      <td>12.2875</td>\n",
       "      <td>NaN</td>\n",
       "      <td>S</td>\n",
       "    </tr>\n",
       "  </tbody>\n",
       "</table>\n",
       "</div>"
      ],
      "text/plain": [
       "   PassengerId  Pclass                                          Name     Sex  \\\n",
       "0          892       3                              Kelly, Mr. James    male   \n",
       "1          893       3              Wilkes, Mrs. James (Ellen Needs)  female   \n",
       "2          894       2                     Myles, Mr. Thomas Francis    male   \n",
       "3          895       3                              Wirz, Mr. Albert    male   \n",
       "4          896       3  Hirvonen, Mrs. Alexander (Helga E Lindqvist)  female   \n",
       "\n",
       "    Age  SibSp  Parch   Ticket     Fare Cabin Embarked  \n",
       "0  34.5      0      0   330911   7.8292   NaN        Q  \n",
       "1  47.0      1      0   363272   7.0000   NaN        S  \n",
       "2  62.0      0      0   240276   9.6875   NaN        Q  \n",
       "3  27.0      0      0   315154   8.6625   NaN        S  \n",
       "4  22.0      1      1  3101298  12.2875   NaN        S  "
      ]
     },
     "execution_count": 10,
     "metadata": {},
     "output_type": "execute_result"
    }
   ],
   "source": [
    "import pandas as pd\n",
    "\n",
    "# Đọc dữ liệu từ file CSV\n",
    "train_data  = pd.read_csv('Buoi 2/train.csv')\n",
    "test_data = pd.read_csv('Buoi 2/test.csv')\n",
    "print(train_data.head())\n",
    "\n",
    "test_data.head()"
   ]
  },
  {
   "cell_type": "markdown",
   "id": "227d439a-b3e3-4c75-8152-923232b2ca29",
   "metadata": {},
   "source": [
    "## Các phương pháp tiền xử lí\n"
   ]
  },
  {
   "cell_type": "code",
   "execution_count": 13,
   "id": "6d66cb37-369d-47bb-9fb7-57ad2647fd5e",
   "metadata": {},
   "outputs": [],
   "source": [
    "# Import các thư viện cần thiết\n",
    "import pandas as pd\n",
    "from sklearn.model_selection import train_test_split\n",
    "from sklearn.tree import DecisionTreeClassifier\n",
    "from sklearn.metrics import accuracy_score, precision_score, recall_score, f1_score\n",
    "from sklearn.preprocessing import OneHotEncoder, MinMaxScaler, StandardScaler\n",
    "\n",
    "# Điền giá trị thiếu cho cột Age bằng giá trị trung bình\n",
    "train_data['Age'].fillna(train_data['Age'].mean(), inplace=True)\n",
    "train_data['Embarked'].fillna(train_data['Embarked'].mode()[0], inplace=True)\n",
    "\n",
    "# Điền giá trị thiếu cho cột Embarked bằng giá trị phổ biến nhất\n",
    "test_data['Age'].fillna(test_data['Age'].mean(), inplace=True)\n",
    "test_data['Embarked'].fillna(test_data['Embarked'].mode()[0], inplace=True)\n",
    "test_data.drop(columns=['Cabin'])\n",
    "\n",
    "\n",
    "\n",
    "# Điền giá trị thiếu cho cột Fare trong tập test bằng giá trị trung bình\n",
    "test_data['Fare'].fillna(test_data['Fare'].mean(), inplace=True)\n",
    "\n",
    "\n",
    "\n",
    "# One-hot encoding cho các cột categorical\n",
    "categorical_features = ['Pclass', 'Sex', 'Embarked']\n",
    "train_encoded = pd.get_dummies(train_data, columns=categorical_features)\n",
    "test_encoded = pd.get_dummies(test_data, columns=categorical_features)\n",
    "\n",
    "# Đảm bảo các cột của tập train và test đồng nhất\n",
    "train_encoded, test_encoded = train_encoded.align(test_encoded, join='left', axis=1, fill_value=0)"
   ]
  },
  {
   "cell_type": "markdown",
   "id": "cd382854-42ee-4be8-93e8-30c29ac4db4e",
   "metadata": {},
   "source": [
    "### 1. Phương pháp Min-Max Scaling"
   ]
  },
  {
   "cell_type": "code",
   "execution_count": 12,
   "id": "7d780070-0186-4e2e-a586-ba8ea04bcaff",
   "metadata": {},
   "outputs": [
    {
     "name": "stdout",
     "output_type": "stream",
     "text": [
      "Min-Max Scaling - Accuracy: 0.7877\n",
      "Min-Max Scaling - Precision: 0.7368\n",
      "Min-Max Scaling - Recall: 0.7568\n",
      "Min-Max Scaling - F1 Score: 0.7467\n"
     ]
    }
   ],
   "source": [
    "# Chọn các cột cần chuẩn hóa\n",
    "numerical_features = ['Age', 'Fare', 'SibSp', 'Parch']\n",
    "\n",
    "# Áp dụng Min-Max Scaling\n",
    "minmax_scaler = MinMaxScaler()\n",
    "train_encoded_minmax = train_encoded.copy()\n",
    "test_encoded_minmax = test_encoded.copy()\n",
    "train_encoded_minmax[numerical_features] = minmax_scaler.fit_transform(train_encoded_minmax[numerical_features])\n",
    "test_encoded_minmax[numerical_features] = minmax_scaler.transform(test_encoded_minmax[numerical_features])\n",
    "\n",
    "# Tách dữ liệu train thành train và validation\n",
    "X = train_encoded_minmax.drop(['Survived', 'PassengerId', 'Name', 'Ticket', 'Cabin'], axis=1)\n",
    "y = train_encoded_minmax['Survived']\n",
    "X_train, X_val, y_train, y_val = train_test_split(X, y, test_size=0.2, random_state=42)\n",
    "\n",
    "# Huấn luyện Decision Tree\n",
    "clf_minmax = DecisionTreeClassifier(random_state=42)\n",
    "clf_minmax.fit(X_train, y_train)\n",
    "\n",
    "# Dự đoán trên tập validation\n",
    "y_pred_minmax = clf_minmax.predict(X_val)\n",
    "\n",
    "# Tính các độ đo\n",
    "accuracy_minmax = accuracy_score(y_val, y_pred_minmax)\n",
    "precision_minmax = precision_score(y_val, y_pred_minmax)\n",
    "recall_minmax = recall_score(y_val, y_pred_minmax)\n",
    "f1_minmax = f1_score(y_val, y_pred_minmax)\n",
    "\n",
    "print(f'Min-Max Scaling - Accuracy: {accuracy_minmax:.4f}')\n",
    "print(f'Min-Max Scaling - Precision: {precision_minmax:.4f}')\n",
    "print(f'Min-Max Scaling - Recall: {recall_minmax:.4f}')\n",
    "print(f'Min-Max Scaling - F1 Score: {f1_minmax:.4f}')\n"
   ]
  },
  {
   "cell_type": "markdown",
   "id": "b2a1fafa-4f6f-48c2-9c1a-bced80d6403a",
   "metadata": {},
   "source": [
    "## Lý do sử dụng:\n",
    "### Min-Max Scaling: Đảm bảo dữ liệu đồng nhất"
   ]
  },
  {
   "cell_type": "markdown",
   "id": "5e68464b-92ea-4d25-8e95-cb3601ffbf09",
   "metadata": {},
   "source": [
    "### 2. Phương pháp Standardization"
   ]
  },
  {
   "cell_type": "code",
   "execution_count": 14,
   "id": "ab75c0f1-6939-4ff5-bf44-b57d2548b381",
   "metadata": {},
   "outputs": [
    {
     "name": "stdout",
     "output_type": "stream",
     "text": [
      "Standardization - Accuracy: 0.7821\n",
      "Standardization - Precision: 0.7273\n",
      "Standardization - Recall: 0.7568\n",
      "Standardization - F1 Score: 0.7417\n"
     ]
    }
   ],
   "source": [
    "# Áp dụng Standardization\n",
    "standard_scaler = StandardScaler()\n",
    "train_encoded_standard = train_encoded.copy()\n",
    "test_encoded_standard = test_encoded.copy()\n",
    "train_encoded_standard[numerical_features] = standard_scaler.fit_transform(train_encoded_standard[numerical_features])\n",
    "test_encoded_standard[numerical_features] = standard_scaler.transform(test_encoded_standard[numerical_features])\n",
    "\n",
    "# Tách dữ liệu train thành train và validation\n",
    "X = train_encoded_standard.drop(['Survived', 'PassengerId', 'Name', 'Ticket', 'Cabin'], axis=1)\n",
    "y = train_encoded_standard['Survived']\n",
    "X_train, X_val, y_train, y_val = train_test_split(X, y, test_size=0.2, random_state=42)\n",
    "\n",
    "# Huấn luyện Decision Tree\n",
    "clf_standard = DecisionTreeClassifier(random_state=42)\n",
    "clf_standard.fit(X_train, y_train)\n",
    "\n",
    "# Dự đoán trên tập validation\n",
    "y_pred_standard = clf_standard.predict(X_val)\n",
    "\n",
    "# Tính các độ đo\n",
    "accuracy_standard = accuracy_score(y_val, y_pred_standard)\n",
    "precision_standard = precision_score(y_val, y_pred_standard)\n",
    "recall_standard = recall_score(y_val, y_pred_standard)\n",
    "f1_standard = f1_score(y_val, y_pred_standard)\n",
    "\n",
    "print(f'Standardization - Accuracy: {accuracy_standard:.4f}')\n",
    "print(f'Standardization - Precision: {precision_standard:.4f}')\n",
    "print(f'Standardization - Recall: {recall_standard:.4f}')\n",
    "print(f'Standardization - F1 Score: {f1_standard:.4f}')\n"
   ]
  },
  {
   "cell_type": "markdown",
   "id": "7cc99fdc-759d-49e8-b9ef-3bfc94fff3ee",
   "metadata": {},
   "source": [
    "## Lý do sử dụng:\n",
    "### Đưa dữ liệu về cùng thang đo.\n",
    "### Cải thiện tốc độ hội tụ của thuật toán học máy.\n",
    "### Cải thiện hiệu suất"
   ]
  },
  {
   "cell_type": "code",
   "execution_count": 15,
   "id": "e1c69e44-8eb9-43e5-abd6-f3b8d1820f13",
   "metadata": {},
   "outputs": [
    {
     "name": "stdout",
     "output_type": "stream",
     "text": [
      "            importance\n",
      "Sex_female    0.308977\n",
      "Fare          0.239912\n",
      "Age           0.232777\n",
      "Pclass_3      0.086924\n",
      "SibSp         0.058832\n",
      "Parch         0.028086\n",
      "Pclass_1      0.020307\n",
      "Embarked_C    0.007746\n",
      "Embarked_S    0.007410\n",
      "Embarked_Q    0.007349\n",
      "Pclass_2      0.001680\n",
      "Sex_male      0.000000\n"
     ]
    }
   ],
   "source": [
    "feature_importances = pd.DataFrame(clf_standard.feature_importances_,\n",
    "                                   index = X.columns,\n",
    "                                   columns=['importance']).sort_values('importance', ascending=False)\n",
    "print(feature_importances)"
   ]
  },
  {
   "cell_type": "markdown",
   "id": "71531d3a-5288-4230-a5a7-41e305ebc092",
   "metadata": {},
   "source": [
    "## Những tri thức rút ra từ bộ dữ liệu\n",
    "### - Sex: Phụ nữ có tỷ lệ sống sót cao hơn đàn ông.\n",
    "### - Fare: Mức độ giàu có <=> khả năng tiếp cận các nguồn lực cứu hộ.\n",
    "### - Age: Trẻ em có tỷ lệ sống sót cao hơn."
   ]
  },
  {
   "cell_type": "markdown",
   "id": "0f0b9eff-b1c4-471f-b728-7dc7b5671deb",
   "metadata": {},
   "source": [
    "## Các đặc trưng ảnh hưởng đến Survived nhất\n",
    "### - Sex: 0.308977 / 1 \n",
    "### - Fare:       0.239912 / 1 \n",
    "### - Age:       0.232777 / 1 "
   ]
  },
  {
   "cell_type": "markdown",
   "id": "c920a96d-3e50-4df5-a983-46d68bb8e609",
   "metadata": {},
   "source": [
    "# Kết luận\n",
    "### Accuracy tốt nhất: 0.7821 - Phương pháp Standardization - Mô hình Cây quyết định\n",
    "### Precision tốt nhất: 0.7368 - Phương pháp Min-Max Scaling - Mô hình Cây quyết định\n",
    "### Recall tốt nhất: 0.7568 - Ngang nhau - Mô hình Cây quyết định\n",
    "### F1 Score tốt nhất: 0.7467 - Phương pháp Min-Max Scaling - Mô hình Cây quyết định"
   ]
  },
  {
   "cell_type": "code",
   "execution_count": null,
   "id": "204a1e42-072d-4bfc-8854-456dd11ff217",
   "metadata": {},
   "outputs": [],
   "source": []
  }
 ],
 "metadata": {
  "kernelspec": {
   "display_name": "Python 3 (ipykernel)",
   "language": "python",
   "name": "python3"
  },
  "language_info": {
   "codemirror_mode": {
    "name": "ipython",
    "version": 3
   },
   "file_extension": ".py",
   "mimetype": "text/x-python",
   "name": "python",
   "nbconvert_exporter": "python",
   "pygments_lexer": "ipython3",
   "version": "3.11.7"
  }
 },
 "nbformat": 4,
 "nbformat_minor": 5
}
